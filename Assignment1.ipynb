{
  "nbformat": 4,
  "nbformat_minor": 0,
  "metadata": {
    "colab": {
      "provenance": []
    },
    "kernelspec": {
      "name": "python3",
      "display_name": "Python 3"
    },
    "language_info": {
      "name": "python"
    }
  },
  "cells": [
    {
      "cell_type": "code",
      "source": [
        "import unittest\n",
        "\n",
        "# Updated function to classify triangles\n",
        "def classify_triangle(a, b, c):\n",
        "    # Check for non-numeric input\n",
        "    if not all(isinstance(side, (int, float)) for side in (a, b, c)):\n",
        "        raise TypeError(\"All sides must be numeric\")\n",
        "\n",
        "    # Sort the sides\n",
        "    sides = sorted([a, b, c])\n",
        "    a, b, c = sides\n",
        "\n",
        "    # Check if it's a valid triangle\n",
        "    if a + b <= c:\n",
        "        return \"Not a triangle\"\n",
        "\n",
        "    # Check for equilateral\n",
        "    if a == b == c:\n",
        "        return \"Equilateral\"\n",
        "\n",
        "    # Check for isosceles\n",
        "    if a == b or b == c:\n",
        "        return \"Isosceles\"\n",
        "\n",
        "    # Check for right triangle (using Pythagorean theorem)\n",
        "    if round(a**2 + b**2, 10) == round(c**2, 10):  # Rounding to avoid floating point issues\n",
        "        return \"Right\"\n",
        "\n",
        "    # If none of the above, it's scalene\n",
        "    return \"Scalene\"\n",
        "\n",
        "# Unit tests\n",
        "class TestTriangleClassification(unittest.TestCase):\n",
        "\n",
        "    def test_equilateral(self):\n",
        "        self.assertEqual(classify_triangle(5, 5, 5), \"Equilateral\")\n",
        "        self.assertEqual(classify_triangle(1, 1, 1), \"Equilateral\")\n",
        "\n",
        "    def test_isosceles(self):\n",
        "        self.assertEqual(classify_triangle(5, 5, 7), \"Isosceles\")\n",
        "        self.assertEqual(classify_triangle(5, 7, 5), \"Isosceles\")\n",
        "        self.assertEqual(classify_triangle(7, 5, 5), \"Isosceles\")\n",
        "\n",
        "    def test_scalene(self):\n",
        "        self.assertEqual(classify_triangle(3, 4, 6), \"Scalene\")\n",
        "        self.assertEqual(classify_triangle(5, 7, 8), \"Scalene\")\n",
        "\n",
        "    def test_right(self):\n",
        "        self.assertEqual(classify_triangle(3, 4, 5), \"Right\")\n",
        "        self.assertEqual(classify_triangle(5, 12, 13), \"Right\")\n",
        "\n",
        "    def test_not_a_triangle(self):\n",
        "        self.assertEqual(classify_triangle(1, 1, 3), \"Not a triangle\")\n",
        "        self.assertEqual(classify_triangle(1, 3, 1), \"Not a triangle\")\n",
        "        self.assertEqual(classify_triangle(3, 1, 1), \"Not a triangle\")\n",
        "\n",
        "    def test_invalid_input(self):\n",
        "        with self.assertRaises(TypeError):\n",
        "            classify_triangle(\"a\", \"b\", \"c\")\n",
        "\n",
        "# Run the testsSSS\n",
        "if __name__ == '__main__':\n",
        "    unittest.main(argv=['first-arg-is-ignored'], exit=False)\n",
        "\n",
        "# Example usage of the function\n",
        "print(\"\\nExample classifications:\")\n",
        "print(\"Triangle (3, 4, 5):\", classify_triangle(3, 4, 5))\n",
        "print(\"Triangle (5, 5, 5):\", classify_triangle(5, 5, 5))\n",
        "print(\"Triangle (5, 5, 7):\", classify_triangle(5, 5, 7))\n",
        "print(\"Triangle (2, 3, 4):\", classify_triangle(2, 3, 4))\n",
        "print(\"Triangle (1, 1, 3):\", classify_triangle(1, 1, 3))"
      ],
      "metadata": {
        "colab": {
          "base_uri": "https://localhost:8080/"
        },
        "id": "54NfNmU1CxIe",
        "outputId": "f3e93e4b-7181-4294-da8c-b1c0cce9cf07"
      },
      "execution_count": 4,
      "outputs": [
        {
          "output_type": "stream",
          "name": "stderr",
          "text": [
            "......\n",
            "----------------------------------------------------------------------\n",
            "Ran 6 tests in 0.012s\n",
            "\n",
            "OK\n"
          ]
        },
        {
          "output_type": "stream",
          "name": "stdout",
          "text": [
            "\n",
            "Example classifications:\n",
            "Triangle (3, 4, 5): Right\n",
            "Triangle (5, 5, 5): Equilateral\n",
            "Triangle (5, 5, 7): Isosceles\n",
            "Triangle (2, 3, 4): Scalene\n",
            "Triangle (1, 1, 3): Not a triangle\n"
          ]
        }
      ]
    }
  ]
}