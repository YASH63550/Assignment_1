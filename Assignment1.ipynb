{
  "nbformat": 4,
  "nbformat_minor": 0,
  "metadata": {
    "colab": {
      "provenance": [],
      "authorship_tag": "ABX9TyOoUDVcgVVZ9piBzOc2GtQJ",
      "include_colab_link": true
    },
    "kernelspec": {
      "name": "python3",
      "display_name": "Python 3"
    },
    "language_info": {
      "name": "python"
    }
  },
  "cells": [
    {
      "cell_type": "markdown",
      "metadata": {
        "id": "view-in-github",
        "colab_type": "text"
      },
      "source": [
        "<a href=\"https://colab.research.google.com/github/YASH63550/Assignment_1/blob/main/Assignment1.ipynb\" target=\"_parent\"><img src=\"https://colab.research.google.com/assets/colab-badge.svg\" alt=\"Open In Colab\"/></a>"
      ]
    },
    {
      "cell_type": "code",
      "source": [
        "# Cell 1: Triangle Classification Function and Main Program\n",
        "\n",
        "def classify_triangle(a, b, c):\n",
        "    try:\n",
        "        # Convert inputs to float\n",
        "        a, b, c = float(a), float(b), float(c)\n",
        "\n",
        "        # Sort the sides\n",
        "        sides = sorted([a, b, c])\n",
        "        a, b, c = sides\n",
        "\n",
        "        # Check if it's a valid triangle\n",
        "        if a <= 0 or b <= 0 or c <= 0:\n",
        "            return \"Invalid: sides must be positive\"\n",
        "        if a + b <= c:\n",
        "            return \"Not a triangle\"\n",
        "\n",
        "        # Check for equilateral\n",
        "        if a == b == c:\n",
        "            return \"Equilateral\"\n",
        "\n",
        "        # Check for isosceles\n",
        "        if a == b or b == c:\n",
        "            return \"Isosceles\"\n",
        "\n",
        "        # Check for right triangle (using Pythagorean theorem)\n",
        "        if round(a**2 + b**2, 10) == round(c**2, 10):  # Rounding to avoid floating point issues\n",
        "            return \"Right\"\n",
        "\n",
        "        # If none of the above, it's scalene\n",
        "        return \"Scalene\"\n",
        "\n",
        "    except ValueError:\n",
        "        return \"Invalid input: please enter numeric values\"\n",
        "\n",
        "def main():\n",
        "    while True:\n",
        "        print(\"\\nTriangle Classification Program\")\n",
        "        print(\"Enter the lengths of the three sides of the triangle:\")\n",
        "        side1 = input(\"Side 1: \")\n",
        "        side2 = input(\"Side 2: \")\n",
        "        side3 = input(\"Side 3: \")\n",
        "\n",
        "        result = classify_triangle(side1, side2, side3)\n",
        "        print(f\"\\nClassification: {result}\")\n",
        "\n",
        "        another = input(\"\\nClassify another triangle? (yes/no): \").lower()\n",
        "        if another != 'yes':\n",
        "            print(\"Thank you for using the Triangle Classification Program!\")\n",
        "            break\n",
        "\n",
        "if __name__ == \"__main__\":\n",
        "    main()"
      ],
      "metadata": {
        "colab": {
          "base_uri": "https://localhost:8080/"
        },
        "id": "TdVkllVDWl-p",
        "outputId": "b8726854-0ceb-4c18-f051-650f0fdaa25a"
      },
      "execution_count": null,
      "outputs": [
        {
          "output_type": "stream",
          "name": "stdout",
          "text": [
            "\n",
            "Triangle Classification Program\n",
            "Enter the lengths of the three sides of the triangle:\n",
            "Side 1: 5\n",
            "Side 2: 5\n",
            "Side 3: 7\n",
            "\n",
            "Classification: Isosceles\n",
            "\n",
            "Classify another triangle? (yes/no): yes\n",
            "\n",
            "Triangle Classification Program\n",
            "Enter the lengths of the three sides of the triangle:\n",
            "Side 1: 5\n",
            "Side 2: 8\n",
            "Side 3: 7\n",
            "\n",
            "Classification: Scalene\n",
            "\n",
            "Classify another triangle? (yes/no): no\n",
            "Thank you for using the Triangle Classification Program!\n"
          ]
        }
      ]
    },
    {
      "cell_type": "code",
      "source": [
        "# Cell 2: Test Cases\n",
        "\n",
        "import unittest\n",
        "from google.colab import output\n",
        "output.clear()  # This clears the output from the previous cell\n",
        "\n",
        "class TestTriangleClassification(unittest.TestCase):\n",
        "\n",
        "    def test_equilateral(self):\n",
        "        self.assertEqual(classify_triangle(5, 5, 5), \"Equilateral\")\n",
        "        self.assertEqual(classify_triangle(1, 1, 1), \"Equilateral\")\n",
        "\n",
        "    def test_isosceles(self):\n",
        "        self.assertEqual(classify_triangle(5, 5, 7), \"Isosceles\")\n",
        "        self.assertEqual(classify_triangle(5, 7, 5), \"Isosceles\")\n",
        "        self.assertEqual(classify_triangle(7, 5, 5), \"Isosceles\")\n",
        "\n",
        "    def test_scalene(self):\n",
        "        self.assertEqual(classify_triangle(9, 4, 6), \"Scalene\")\n",
        "        self.assertEqual(classify_triangle(5, 7, 9), \"Scalene\")\n",
        "\n",
        "    def test_right(self):\n",
        "        self.assertEqual(classify_triangle(3, 4, 5), \"Right\")\n",
        "        self.assertEqual(classify_triangle(5, 12, 13), \"Right\")\n",
        "\n",
        "    def test_not_a_triangle(self):\n",
        "        self.assertEqual(classify_triangle(1, 1, 3), \"Not a triangle\")\n",
        "        self.assertEqual(classify_triangle(1, 3, 1), \"Not a triangle\")\n",
        "        self.assertEqual(classify_triangle(3, 1, 1), \"Not a triangle\")\n",
        "\n",
        "    def test_invalid_input(self):\n",
        "        self.assertEqual(classify_triangle(\"a\", \"b\", \"c\"), \"Invalid input: please enter numeric values\")\n",
        "        self.assertEqual(classify_triangle(-1, 2, 2), \"Invalid: sides must be positive\")\n",
        "\n",
        "if __name__ == '__main__':\n",
        "    unittest.main(argv=['first-arg-is-ignored'], exit=False)"
      ],
      "metadata": {
        "colab": {
          "base_uri": "https://localhost:8080/"
        },
        "id": "OkrALJSFW1La",
        "outputId": "f5369a2e-feb7-42fd-b832-04172f07582d"
      },
      "execution_count": null,
      "outputs": [
        {
          "output_type": "stream",
          "name": "stderr",
          "text": [
            "......\n",
            "----------------------------------------------------------------------\n",
            "Ran 6 tests in 0.011s\n",
            "\n",
            "OK\n"
          ]
        }
      ]
    }
  ]
}